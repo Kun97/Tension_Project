{
 "cells": [
  {
   "cell_type": "code",
   "execution_count": 1,
   "metadata": {},
   "outputs": [],
   "source": [
    "import pandas as pd"
   ]
  },
  {
   "cell_type": "code",
   "execution_count": 3,
   "metadata": {},
   "outputs": [],
   "source": [
    "result = pd.read_csv('1result.csv')"
   ]
  },
  {
   "cell_type": "code",
   "execution_count": 14,
   "metadata": {},
   "outputs": [],
   "source": [
    "Interviewee = result[result['Role']=='Interviewee']"
   ]
  },
  {
   "cell_type": "code",
   "execution_count": 15,
   "metadata": {},
   "outputs": [
    {
     "data": {
      "text/plain": [
       "123"
      ]
     },
     "execution_count": 15,
     "metadata": {},
     "output_type": "execute_result"
    }
   ],
   "source": [
    "len(Interviewee)"
   ]
  },
  {
   "cell_type": "code",
   "execution_count": 16,
   "metadata": {},
   "outputs": [
    {
     "data": {
      "text/html": [
       "<div>\n",
       "<style scoped>\n",
       "    .dataframe tbody tr th:only-of-type {\n",
       "        vertical-align: middle;\n",
       "    }\n",
       "\n",
       "    .dataframe tbody tr th {\n",
       "        vertical-align: top;\n",
       "    }\n",
       "\n",
       "    .dataframe thead th {\n",
       "        text-align: right;\n",
       "    }\n",
       "</style>\n",
       "<table border=\"1\" class=\"dataframe\">\n",
       "  <thead>\n",
       "    <tr style=\"text-align: right;\">\n",
       "      <th></th>\n",
       "      <th>Content</th>\n",
       "      <th>Role</th>\n",
       "      <th>Predicted Label</th>\n",
       "    </tr>\n",
       "  </thead>\n",
       "  <tbody>\n",
       "    <tr>\n",
       "      <th>3</th>\n",
       "      <td>Well, we were very hard working, six children,...</td>\n",
       "      <td>Interviewee</td>\n",
       "      <td>Tension</td>\n",
       "    </tr>\n",
       "    <tr>\n",
       "      <th>9</th>\n",
       "      <td>Well, I raised in the spirit of Judaism.</td>\n",
       "      <td>Interviewee</td>\n",
       "      <td>Tension</td>\n",
       "    </tr>\n",
       "    <tr>\n",
       "      <th>11</th>\n",
       "      <td>No, the school itself, in this little city, wa...</td>\n",
       "      <td>Interviewee</td>\n",
       "      <td>Tension</td>\n",
       "    </tr>\n",
       "    <tr>\n",
       "      <th>15</th>\n",
       "      <td>Yes, I did. I felt it, maybe not personally, b...</td>\n",
       "      <td>Interviewee</td>\n",
       "      <td>Tension</td>\n",
       "    </tr>\n",
       "    <tr>\n",
       "      <th>19</th>\n",
       "      <td>Yes there were Zionists in the city. There wer...</td>\n",
       "      <td>Interviewee</td>\n",
       "      <td>Tension</td>\n",
       "    </tr>\n",
       "    <tr>\n",
       "      <th>...</th>\n",
       "      <td>...</td>\n",
       "      <td>...</td>\n",
       "      <td>...</td>\n",
       "    </tr>\n",
       "    <tr>\n",
       "      <th>223</th>\n",
       "      <td>Well, number one it was I wasn't too smart to ...</td>\n",
       "      <td>Interviewee</td>\n",
       "      <td>Tension</td>\n",
       "    </tr>\n",
       "    <tr>\n",
       "      <th>225</th>\n",
       "      <td>Well, let me tell you, I went to church for qu...</td>\n",
       "      <td>Interviewee</td>\n",
       "      <td>Tension</td>\n",
       "    </tr>\n",
       "    <tr>\n",
       "      <th>229</th>\n",
       "      <td>Let me tell you, during the war, I really thou...</td>\n",
       "      <td>Interviewee</td>\n",
       "      <td>Tension</td>\n",
       "    </tr>\n",
       "    <tr>\n",
       "      <th>231</th>\n",
       "      <td>Well, when I went to America, of course, in Am...</td>\n",
       "      <td>Interviewee</td>\n",
       "      <td>Tension</td>\n",
       "    </tr>\n",
       "    <tr>\n",
       "      <th>243</th>\n",
       "      <td>To record I could just tell you one thing. The...</td>\n",
       "      <td>Interviewee</td>\n",
       "      <td>Tension</td>\n",
       "    </tr>\n",
       "  </tbody>\n",
       "</table>\n",
       "<p>75 rows × 3 columns</p>\n",
       "</div>"
      ],
      "text/plain": [
       "                                               Content         Role  \\\n",
       "3    Well, we were very hard working, six children,...  Interviewee   \n",
       "9             Well, I raised in the spirit of Judaism.  Interviewee   \n",
       "11   No, the school itself, in this little city, wa...  Interviewee   \n",
       "15   Yes, I did. I felt it, maybe not personally, b...  Interviewee   \n",
       "19   Yes there were Zionists in the city. There wer...  Interviewee   \n",
       "..                                                 ...          ...   \n",
       "223  Well, number one it was I wasn't too smart to ...  Interviewee   \n",
       "225  Well, let me tell you, I went to church for qu...  Interviewee   \n",
       "229  Let me tell you, during the war, I really thou...  Interviewee   \n",
       "231  Well, when I went to America, of course, in Am...  Interviewee   \n",
       "243  To record I could just tell you one thing. The...  Interviewee   \n",
       "\n",
       "    Predicted Label  \n",
       "3           Tension  \n",
       "9           Tension  \n",
       "11          Tension  \n",
       "15          Tension  \n",
       "19          Tension  \n",
       "..              ...  \n",
       "223         Tension  \n",
       "225         Tension  \n",
       "229         Tension  \n",
       "231         Tension  \n",
       "243         Tension  \n",
       "\n",
       "[75 rows x 3 columns]"
      ]
     },
     "execution_count": 16,
     "metadata": {},
     "output_type": "execute_result"
    }
   ],
   "source": [
    "Interviewee[Interviewee['Predicted Label'] == 'Tension']"
   ]
  },
  {
   "cell_type": "code",
   "execution_count": 17,
   "metadata": {},
   "outputs": [
    {
     "data": {
      "text/plain": [
       "0.6097560975609756"
      ]
     },
     "execution_count": 17,
     "metadata": {},
     "output_type": "execute_result"
    }
   ],
   "source": [
    "75/123"
   ]
  },
  {
   "cell_type": "code",
   "execution_count": null,
   "metadata": {},
   "outputs": [],
   "source": []
  }
 ],
 "metadata": {
  "kernelspec": {
   "display_name": "Python 3",
   "language": "python",
   "name": "python3"
  },
  "language_info": {
   "codemirror_mode": {
    "name": "ipython",
    "version": 3
   },
   "file_extension": ".py",
   "mimetype": "text/x-python",
   "name": "python",
   "nbconvert_exporter": "python",
   "pygments_lexer": "ipython3",
   "version": "3.8.5"
  }
 },
 "nbformat": 4,
 "nbformat_minor": 4
}
